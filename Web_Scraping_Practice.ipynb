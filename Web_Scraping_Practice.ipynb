{
  "nbformat": 4,
  "nbformat_minor": 0,
  "metadata": {
    "colab": {
      "provenance": [],
      "authorship_tag": "ABX9TyNGkVbMtnJJH0vmqlun3U/F",
      "include_colab_link": true
    },
    "kernelspec": {
      "name": "python3",
      "display_name": "Python 3"
    },
    "language_info": {
      "name": "python"
    }
  },
  "cells": [
    {
      "cell_type": "markdown",
      "metadata": {
        "id": "view-in-github",
        "colab_type": "text"
      },
      "source": [
        "<a href=\"https://colab.research.google.com/github/brynnyoung/TEDA1040_BY/blob/main/Web_Scraping_Practice.ipynb\" target=\"_parent\"><img src=\"https://colab.research.google.com/assets/colab-badge.svg\" alt=\"Open In Colab\"/></a>"
      ]
    },
    {
      "cell_type": "code",
      "execution_count": 2,
      "metadata": {
        "id": "2_zoMpvVisXl"
      },
      "outputs": [],
      "source": [
        "import pandas as pd\n",
        "import requests\n",
        "from bs4 import BeautifulSoup"
      ]
    },
    {
      "cell_type": "code",
      "source": [
        "response = requests.get('https://btech-data-analytics.github.io/bridgerland-technical-college/employees_3.html').text"
      ],
      "metadata": {
        "id": "_5LxHTfSkKSg"
      },
      "execution_count": 5,
      "outputs": []
    },
    {
      "cell_type": "code",
      "source": [
        "soup = BeautifulSoup(response, 'html.parser')"
      ],
      "metadata": {
        "id": "-mAiTBPKklnu"
      },
      "execution_count": 6,
      "outputs": []
    },
    {
      "cell_type": "code",
      "source": [
        "id = []\n",
        "name = []\n",
        "age = []\n",
        "\n",
        "for employee in soup.find('table').find_all('tr', class_='employee'):\n",
        "  id.append(employee.find_all('td')[0].text)\n",
        "  name.append(employee.find_all('td')[1].text)\n",
        "  age.append(employee.find_all('td')[2].text)"
      ],
      "metadata": {
        "id": "6YHxvE_JktWh"
      },
      "execution_count": 21,
      "outputs": []
    },
    {
      "cell_type": "code",
      "source": [
        "df = pd.DataFrame({\n",
        "    'id': id,\n",
        "    'name': name,\n",
        "    'age': age\n",
        "})\n",
        "\n",
        "df.info()"
      ],
      "metadata": {
        "colab": {
          "base_uri": "https://localhost:8080/"
        },
        "id": "IHQtnJ2mmLQw",
        "outputId": "f3c6df62-981e-4784-bc89-a995931d3fa7"
      },
      "execution_count": 28,
      "outputs": [
        {
          "output_type": "stream",
          "name": "stdout",
          "text": [
            "<class 'pandas.core.frame.DataFrame'>\n",
            "RangeIndex: 8 entries, 0 to 7\n",
            "Data columns (total 3 columns):\n",
            " #   Column  Non-Null Count  Dtype \n",
            "---  ------  --------------  ----- \n",
            " 0   id      8 non-null      object\n",
            " 1   name    8 non-null      object\n",
            " 2   age     8 non-null      object\n",
            "dtypes: object(3)\n",
            "memory usage: 320.0+ bytes\n"
          ]
        }
      ]
    },
    {
      "cell_type": "code",
      "source": [
        "df['age'] = df['age'].astype(int)"
      ],
      "metadata": {
        "id": "IWMMer8anGzZ"
      },
      "execution_count": 29,
      "outputs": []
    },
    {
      "cell_type": "code",
      "source": [
        "df['age'].mean()"
      ],
      "metadata": {
        "colab": {
          "base_uri": "https://localhost:8080/"
        },
        "id": "LTYu3TvXnMy3",
        "outputId": "82f0fbd6-ef82-4ea8-dacf-2ec52ce327c9"
      },
      "execution_count": 30,
      "outputs": [
        {
          "output_type": "execute_result",
          "data": {
            "text/plain": [
              "29.875"
            ]
          },
          "metadata": {},
          "execution_count": 30
        }
      ]
    },
    {
      "cell_type": "code",
      "source": [
        "df['age'].std()"
      ],
      "metadata": {
        "colab": {
          "base_uri": "https://localhost:8080/"
        },
        "id": "yyr4u907nZJ3",
        "outputId": "bee021b4-5561-4e38-e76a-83d087a06e4e"
      },
      "execution_count": 31,
      "outputs": [
        {
          "output_type": "execute_result",
          "data": {
            "text/plain": [
              "3.563204817496262"
            ]
          },
          "metadata": {},
          "execution_count": 31
        }
      ]
    }
  ]
}